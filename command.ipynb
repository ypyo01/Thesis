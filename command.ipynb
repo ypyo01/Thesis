{
 "cells": [
  {
   "cell_type": "code",
   "execution_count": 1,
   "metadata": {},
   "outputs": [
    {
     "name": "stdout",
     "output_type": "stream",
     "text": [
      "Requirement already satisfied: numpy in /home/user01/anaconda3/envs/nemo/lib/python3.10/site-packages (1.24.3)\n"
     ]
    }
   ],
   "source": [
    "!pip install numpy\n",
    "!pip install torch torchvision torchaudio\n",
    "!pip install pandas\n",
    "!pip install -U openai-whisper"
   ]
  },
  {
   "cell_type": "code",
   "execution_count": 2,
   "metadata": {},
   "outputs": [],
   "source": [
    "import os\n",
    "import numpy as np\n",
    "\n",
    "try:\n",
    "    import tensorflow  # required in Colab to avoid protobuf compatibility issues\n",
    "except ImportError:\n",
    "    pass\n",
    "\n",
    "import torch\n",
    "import pandas as pd\n",
    "import whisper\n",
    "import torchaudio\n",
    "\n",
    "from tqdm.notebook import tqdm\n",
    "\n",
    "\n",
    "DEVICE = \"cuda\" if torch.cuda.is_available() else \"cpu\"\n"
   ]
  },
  {
   "cell_type": "markdown",
   "metadata": {},
   "source": []
  },
  {
   "cell_type": "code",
   "execution_count": 3,
   "metadata": {},
   "outputs": [],
   "source": [
    "\n",
    "\n",
    "class LibriSpeech(torch.utils.data.Dataset):\n",
    "    \"\"\"\n",
    "    A simple class to wrap LibriSpeech and trim/pad the audio to 30 seconds.\n",
    "    It will drop the last few seconds of a very small portion of the utterances.\n",
    "    \"\"\"\n",
    "    def __init__(self, split=\"test-other\", device=DEVICE):\n",
    "        self.dataset = torchaudio.datasets.LIBRISPEECH(\n",
    "            root=os.path.expanduser(\"~/.cache\"),\n",
    "            url=split,\n",
    "            download=True,\n",
    "        )\n",
    "        self.device = device\n",
    "\n",
    "    def __len__(self):\n",
    "        return len(self.dataset)\n",
    "\n",
    "    def __getitem__(self, item):\n",
    "        audio, sample_rate, text, _, _, _ = self.dataset[item]\n",
    "        assert sample_rate == 16000\n",
    "        audio = whisper.pad_or_trim(audio.flatten()).to(self.device)\n",
    "        mel = whisper.log_mel_spectrogram(audio)\n",
    "        \n",
    "        return (mel, text)\n",
    "\n"
   ]
  },
  {
   "cell_type": "code",
   "execution_count": 4,
   "metadata": {},
   "outputs": [],
   "source": [
    "dataset = LibriSpeech(\"test-other\")\n",
    "loader = torch.utils.data.DataLoader(dataset, batch_size=4)\n"
   ]
  },
  {
   "cell_type": "code",
   "execution_count": 4,
   "metadata": {},
   "outputs": [
    {
     "name": "stderr",
     "output_type": "stream",
     "text": [
      "/home/user01/anaconda3/envs/nemo/lib/python3.10/site-packages/whisper/__init__.py:146: FutureWarning: You are using `torch.load` with `weights_only=False` (the current default value), which uses the default pickle module implicitly. It is possible to construct malicious pickle data which will execute arbitrary code during unpickling (See https://github.com/pytorch/pytorch/blob/main/SECURITY.md#untrusted-models for more details). In a future release, the default value for `weights_only` will be flipped to `True`. This limits the functions that could be executed during unpickling. Arbitrary objects will no longer be allowed to be loaded via this mode unless they are explicitly allowlisted by the user via `torch.serialization.add_safe_globals`. We recommend you start setting `weights_only=True` for any use case where you don't have full control of the loaded file. Please open an issue on GitHub for any issues related to this experimental feature.\n",
      "  checkpoint = torch.load(fp, map_location=device)\n"
     ]
    },
    {
     "name": "stdout",
     "output_type": "stream",
     "text": [
      "Model is English-only and has 71,825,408 parameters.\n"
     ]
    }
   ],
   "source": [
    "model = whisper.load_model(\"base.en\")\n",
    "print(\n",
    "    f\"Model is {'multilingual' if model.is_multilingual else 'English-only'} \"\n",
    "    f\"and has {sum(np.prod(p.shape) for p in model.parameters()):,} parameters.\"\n",
    ")"
   ]
  },
  {
   "cell_type": "code",
   "execution_count": 5,
   "metadata": {},
   "outputs": [
    {
     "name": "stderr",
     "output_type": "stream",
     "text": [
      "/home/user01/anaconda3/envs/nemo/lib/python3.10/site-packages/whisper/__init__.py:146: FutureWarning: You are using `torch.load` with `weights_only=False` (the current default value), which uses the default pickle module implicitly. It is possible to construct malicious pickle data which will execute arbitrary code during unpickling (See https://github.com/pytorch/pytorch/blob/main/SECURITY.md#untrusted-models for more details). In a future release, the default value for `weights_only` will be flipped to `True`. This limits the functions that could be executed during unpickling. Arbitrary objects will no longer be allowed to be loaded via this mode unless they are explicitly allowlisted by the user via `torch.serialization.add_safe_globals`. We recommend you start setting `weights_only=True` for any use case where you don't have full control of the loaded file. Please open an issue on GitHub for any issues related to this experimental feature.\n",
      "  checkpoint = torch.load(fp, map_location=device)\n"
     ]
    },
    {
     "name": "stdout",
     "output_type": "stream",
     "text": [
      "Model is English-only and has 762,320,896 parameters.\n"
     ]
    }
   ],
   "source": [
    "model = whisper.load_model(\"medium.en\")\n",
    "print(\n",
    "    f\"Model is {'multilingual' if model.is_multilingual else 'English-only'} \"\n",
    "    f\"and has {sum(np.prod(p.shape) for p in model.parameters()):,} parameters.\"\n",
    ")"
   ]
  },
  {
   "cell_type": "code",
   "execution_count": 6,
   "metadata": {},
   "outputs": [],
   "source": [
    "# predict without timestamps for short-form transcription\n",
    "options = whisper.DecodingOptions(language=\"en\", without_timestamps=True)\n"
   ]
  },
  {
   "cell_type": "code",
   "execution_count": 7,
   "metadata": {},
   "outputs": [
    {
     "data": {
      "application/vnd.jupyter.widget-view+json": {
       "model_id": "47fe851a807042f482fcd3a3756a6a1c",
       "version_major": 2,
       "version_minor": 0
      },
      "text/plain": [
       "  0%|          | 0/735 [00:00<?, ?it/s]"
      ]
     },
     "metadata": {},
     "output_type": "display_data"
    }
   ],
   "source": [
    "hypotheses = []\n",
    "references = []\n",
    "\n",
    "for mels, texts in tqdm(loader):\n",
    "    results = model.decode(mels, options)\n",
    "    hypotheses.extend([result.text for result in results])\n",
    "    references.extend(texts)\n"
   ]
  },
  {
   "cell_type": "code",
   "execution_count": 8,
   "metadata": {},
   "outputs": [
    {
     "data": {
      "text/html": [
       "<div>\n",
       "<style scoped>\n",
       "    .dataframe tbody tr th:only-of-type {\n",
       "        vertical-align: middle;\n",
       "    }\n",
       "\n",
       "    .dataframe tbody tr th {\n",
       "        vertical-align: top;\n",
       "    }\n",
       "\n",
       "    .dataframe thead th {\n",
       "        text-align: right;\n",
       "    }\n",
       "</style>\n",
       "<table border=\"1\" class=\"dataframe\">\n",
       "  <thead>\n",
       "    <tr style=\"text-align: right;\">\n",
       "      <th></th>\n",
       "      <th>hypothesis</th>\n",
       "      <th>reference</th>\n",
       "    </tr>\n",
       "  </thead>\n",
       "  <tbody>\n",
       "    <tr>\n",
       "      <th>0</th>\n",
       "      <td>There's iron, they say, in all our blood, And ...</td>\n",
       "      <td>THERE'S IRON THEY SAY IN ALL OUR BLOOD AND A G...</td>\n",
       "    </tr>\n",
       "    <tr>\n",
       "      <th>1</th>\n",
       "      <td>ìMargaret,î said Mr. Hale, as he returned from...</td>\n",
       "      <td>MARGARET SAID MISTER HALE AS HE RETURNED FROM ...</td>\n",
       "    </tr>\n",
       "    <tr>\n",
       "      <th>2</th>\n",
       "      <td>you don't mean that you thought me so silly</td>\n",
       "      <td>YOU DON'T MEAN THAT YOU THOUGHT ME SO SILLY</td>\n",
       "    </tr>\n",
       "    <tr>\n",
       "      <th>3</th>\n",
       "      <td>I really like that account of himself, better ...</td>\n",
       "      <td>I REALLY LIKED THAT ACCOUNT OF HIMSELF BETTER ...</td>\n",
       "    </tr>\n",
       "    <tr>\n",
       "      <th>4</th>\n",
       "      <td>His statement of having been a shop boy was th...</td>\n",
       "      <td>HIS STATEMENT OF HAVING BEEN A SHOP BOY WAS TH...</td>\n",
       "    </tr>\n",
       "    <tr>\n",
       "      <th>...</th>\n",
       "      <td>...</td>\n",
       "      <td>...</td>\n",
       "    </tr>\n",
       "    <tr>\n",
       "      <th>2934</th>\n",
       "      <td>Poor Isaac was hurried off accordingly, and ex...</td>\n",
       "      <td>POOR ISAAC WAS HURRIED OFF ACCORDINGLY AND EXP...</td>\n",
       "    </tr>\n",
       "    <tr>\n",
       "      <th>2935</th>\n",
       "      <td>The assurance that she possessed some friend i...</td>\n",
       "      <td>THE ASSURANCE THAT SHE POSSESSED SOME FRIEND I...</td>\n",
       "    </tr>\n",
       "    <tr>\n",
       "      <th>2936</th>\n",
       "      <td>She gazed accordingly upon a scene which might...</td>\n",
       "      <td>SHE GAZED ACCORDINGLY UPON A SCENE WHICH MIGHT...</td>\n",
       "    </tr>\n",
       "    <tr>\n",
       "      <th>2937</th>\n",
       "      <td>At his feet was placed a table occupied by two...</td>\n",
       "      <td>AT HIS FEET WAS PLACED A TABLE OCCUPIED BY TWO...</td>\n",
       "    </tr>\n",
       "    <tr>\n",
       "      <th>2938</th>\n",
       "      <td>The preceptors, of whom there were four presen...</td>\n",
       "      <td>THE PRECEPTORS OF WHOM THERE WERE FOUR PRESENT...</td>\n",
       "    </tr>\n",
       "  </tbody>\n",
       "</table>\n",
       "<p>2939 rows × 2 columns</p>\n",
       "</div>"
      ],
      "text/plain": [
       "                                             hypothesis  \\\n",
       "0     There's iron, they say, in all our blood, And ...   \n",
       "1     ìMargaret,î said Mr. Hale, as he returned from...   \n",
       "2           you don't mean that you thought me so silly   \n",
       "3     I really like that account of himself, better ...   \n",
       "4     His statement of having been a shop boy was th...   \n",
       "...                                                 ...   \n",
       "2934  Poor Isaac was hurried off accordingly, and ex...   \n",
       "2935  The assurance that she possessed some friend i...   \n",
       "2936  She gazed accordingly upon a scene which might...   \n",
       "2937  At his feet was placed a table occupied by two...   \n",
       "2938  The preceptors, of whom there were four presen...   \n",
       "\n",
       "                                              reference  \n",
       "0     THERE'S IRON THEY SAY IN ALL OUR BLOOD AND A G...  \n",
       "1     MARGARET SAID MISTER HALE AS HE RETURNED FROM ...  \n",
       "2           YOU DON'T MEAN THAT YOU THOUGHT ME SO SILLY  \n",
       "3     I REALLY LIKED THAT ACCOUNT OF HIMSELF BETTER ...  \n",
       "4     HIS STATEMENT OF HAVING BEEN A SHOP BOY WAS TH...  \n",
       "...                                                 ...  \n",
       "2934  POOR ISAAC WAS HURRIED OFF ACCORDINGLY AND EXP...  \n",
       "2935  THE ASSURANCE THAT SHE POSSESSED SOME FRIEND I...  \n",
       "2936  SHE GAZED ACCORDINGLY UPON A SCENE WHICH MIGHT...  \n",
       "2937  AT HIS FEET WAS PLACED A TABLE OCCUPIED BY TWO...  \n",
       "2938  THE PRECEPTORS OF WHOM THERE WERE FOUR PRESENT...  \n",
       "\n",
       "[2939 rows x 2 columns]"
      ]
     },
     "execution_count": 8,
     "metadata": {},
     "output_type": "execute_result"
    }
   ],
   "source": [
    "data = pd.DataFrame(dict(hypothesis=hypotheses, reference=references))\n",
    "data"
   ]
  },
  {
   "cell_type": "code",
   "execution_count": 9,
   "metadata": {},
   "outputs": [],
   "source": [
    "import jiwer\n",
    "from whisper.normalizers import EnglishTextNormalizer\n",
    "\n",
    "normalizer = EnglishTextNormalizer()\n",
    "\n"
   ]
  },
  {
   "cell_type": "code",
   "execution_count": 10,
   "metadata": {},
   "outputs": [
    {
     "data": {
      "text/html": [
       "<div>\n",
       "<style scoped>\n",
       "    .dataframe tbody tr th:only-of-type {\n",
       "        vertical-align: middle;\n",
       "    }\n",
       "\n",
       "    .dataframe tbody tr th {\n",
       "        vertical-align: top;\n",
       "    }\n",
       "\n",
       "    .dataframe thead th {\n",
       "        text-align: right;\n",
       "    }\n",
       "</style>\n",
       "<table border=\"1\" class=\"dataframe\">\n",
       "  <thead>\n",
       "    <tr style=\"text-align: right;\">\n",
       "      <th></th>\n",
       "      <th>hypothesis</th>\n",
       "      <th>reference</th>\n",
       "      <th>hypothesis_clean</th>\n",
       "      <th>reference_clean</th>\n",
       "    </tr>\n",
       "  </thead>\n",
       "  <tbody>\n",
       "    <tr>\n",
       "      <th>0</th>\n",
       "      <td>There's iron, they say, in all our blood, And ...</td>\n",
       "      <td>THERE'S IRON THEY SAY IN ALL OUR BLOOD AND A G...</td>\n",
       "      <td>there is iron they say in all our blood and a ...</td>\n",
       "      <td>there is iron they say in all our blood and a ...</td>\n",
       "    </tr>\n",
       "    <tr>\n",
       "      <th>1</th>\n",
       "      <td>ìMargaret,î said Mr. Hale, as he returned from...</td>\n",
       "      <td>MARGARET SAID MISTER HALE AS HE RETURNED FROM ...</td>\n",
       "      <td>imargaret i said mister hale as he returned fr...</td>\n",
       "      <td>margaret said mister hale as he returned from ...</td>\n",
       "    </tr>\n",
       "    <tr>\n",
       "      <th>2</th>\n",
       "      <td>you don't mean that you thought me so silly</td>\n",
       "      <td>YOU DON'T MEAN THAT YOU THOUGHT ME SO SILLY</td>\n",
       "      <td>you do not mean that you thought me so silly</td>\n",
       "      <td>you do not mean that you thought me so silly</td>\n",
       "    </tr>\n",
       "    <tr>\n",
       "      <th>3</th>\n",
       "      <td>I really like that account of himself, better ...</td>\n",
       "      <td>I REALLY LIKED THAT ACCOUNT OF HIMSELF BETTER ...</td>\n",
       "      <td>i really like that account of himself better t...</td>\n",
       "      <td>i really liked that account of himself better ...</td>\n",
       "    </tr>\n",
       "    <tr>\n",
       "      <th>4</th>\n",
       "      <td>His statement of having been a shop boy was th...</td>\n",
       "      <td>HIS STATEMENT OF HAVING BEEN A SHOP BOY WAS TH...</td>\n",
       "      <td>his statement of having been a shop boy was th...</td>\n",
       "      <td>his statement of having been a shop boy was th...</td>\n",
       "    </tr>\n",
       "    <tr>\n",
       "      <th>...</th>\n",
       "      <td>...</td>\n",
       "      <td>...</td>\n",
       "      <td>...</td>\n",
       "      <td>...</td>\n",
       "    </tr>\n",
       "    <tr>\n",
       "      <th>2934</th>\n",
       "      <td>Poor Isaac was hurried off accordingly, and ex...</td>\n",
       "      <td>POOR ISAAC WAS HURRIED OFF ACCORDINGLY AND EXP...</td>\n",
       "      <td>poor isaac was hurried off accordingly and exp...</td>\n",
       "      <td>poor isaac was hurried off accordingly and exp...</td>\n",
       "    </tr>\n",
       "    <tr>\n",
       "      <th>2935</th>\n",
       "      <td>The assurance that she possessed some friend i...</td>\n",
       "      <td>THE ASSURANCE THAT SHE POSSESSED SOME FRIEND I...</td>\n",
       "      <td>the assurance that she possessed some friend i...</td>\n",
       "      <td>the assurance that she possessed some friend i...</td>\n",
       "    </tr>\n",
       "    <tr>\n",
       "      <th>2936</th>\n",
       "      <td>She gazed accordingly upon a scene which might...</td>\n",
       "      <td>SHE GAZED ACCORDINGLY UPON A SCENE WHICH MIGHT...</td>\n",
       "      <td>she gazed accordingly upon a scene which might...</td>\n",
       "      <td>she gazed accordingly upon a scene which might...</td>\n",
       "    </tr>\n",
       "    <tr>\n",
       "      <th>2937</th>\n",
       "      <td>At his feet was placed a table occupied by two...</td>\n",
       "      <td>AT HIS FEET WAS PLACED A TABLE OCCUPIED BY TWO...</td>\n",
       "      <td>at his feet was placed a table occupied by 2 s...</td>\n",
       "      <td>at his feet was placed a table occupied by 2 s...</td>\n",
       "    </tr>\n",
       "    <tr>\n",
       "      <th>2938</th>\n",
       "      <td>The preceptors, of whom there were four presen...</td>\n",
       "      <td>THE PRECEPTORS OF WHOM THERE WERE FOUR PRESENT...</td>\n",
       "      <td>the preceptors of whom there were 4 present oc...</td>\n",
       "      <td>the preceptors of whom there were 4 present oc...</td>\n",
       "    </tr>\n",
       "  </tbody>\n",
       "</table>\n",
       "<p>2939 rows × 4 columns</p>\n",
       "</div>"
      ],
      "text/plain": [
       "                                             hypothesis  \\\n",
       "0     There's iron, they say, in all our blood, And ...   \n",
       "1     ìMargaret,î said Mr. Hale, as he returned from...   \n",
       "2           you don't mean that you thought me so silly   \n",
       "3     I really like that account of himself, better ...   \n",
       "4     His statement of having been a shop boy was th...   \n",
       "...                                                 ...   \n",
       "2934  Poor Isaac was hurried off accordingly, and ex...   \n",
       "2935  The assurance that she possessed some friend i...   \n",
       "2936  She gazed accordingly upon a scene which might...   \n",
       "2937  At his feet was placed a table occupied by two...   \n",
       "2938  The preceptors, of whom there were four presen...   \n",
       "\n",
       "                                              reference  \\\n",
       "0     THERE'S IRON THEY SAY IN ALL OUR BLOOD AND A G...   \n",
       "1     MARGARET SAID MISTER HALE AS HE RETURNED FROM ...   \n",
       "2           YOU DON'T MEAN THAT YOU THOUGHT ME SO SILLY   \n",
       "3     I REALLY LIKED THAT ACCOUNT OF HIMSELF BETTER ...   \n",
       "4     HIS STATEMENT OF HAVING BEEN A SHOP BOY WAS TH...   \n",
       "...                                                 ...   \n",
       "2934  POOR ISAAC WAS HURRIED OFF ACCORDINGLY AND EXP...   \n",
       "2935  THE ASSURANCE THAT SHE POSSESSED SOME FRIEND I...   \n",
       "2936  SHE GAZED ACCORDINGLY UPON A SCENE WHICH MIGHT...   \n",
       "2937  AT HIS FEET WAS PLACED A TABLE OCCUPIED BY TWO...   \n",
       "2938  THE PRECEPTORS OF WHOM THERE WERE FOUR PRESENT...   \n",
       "\n",
       "                                       hypothesis_clean  \\\n",
       "0     there is iron they say in all our blood and a ...   \n",
       "1     imargaret i said mister hale as he returned fr...   \n",
       "2          you do not mean that you thought me so silly   \n",
       "3     i really like that account of himself better t...   \n",
       "4     his statement of having been a shop boy was th...   \n",
       "...                                                 ...   \n",
       "2934  poor isaac was hurried off accordingly and exp...   \n",
       "2935  the assurance that she possessed some friend i...   \n",
       "2936  she gazed accordingly upon a scene which might...   \n",
       "2937  at his feet was placed a table occupied by 2 s...   \n",
       "2938  the preceptors of whom there were 4 present oc...   \n",
       "\n",
       "                                        reference_clean  \n",
       "0     there is iron they say in all our blood and a ...  \n",
       "1     margaret said mister hale as he returned from ...  \n",
       "2          you do not mean that you thought me so silly  \n",
       "3     i really liked that account of himself better ...  \n",
       "4     his statement of having been a shop boy was th...  \n",
       "...                                                 ...  \n",
       "2934  poor isaac was hurried off accordingly and exp...  \n",
       "2935  the assurance that she possessed some friend i...  \n",
       "2936  she gazed accordingly upon a scene which might...  \n",
       "2937  at his feet was placed a table occupied by 2 s...  \n",
       "2938  the preceptors of whom there were 4 present oc...  \n",
       "\n",
       "[2939 rows x 4 columns]"
      ]
     },
     "execution_count": 10,
     "metadata": {},
     "output_type": "execute_result"
    }
   ],
   "source": [
    "data[\"hypothesis_clean\"] = [normalizer(text) for text in data[\"hypothesis\"]]\n",
    "data[\"reference_clean\"] = [normalizer(text) for text in data[\"reference\"]]\n",
    "data\n",
    "\n"
   ]
  },
  {
   "cell_type": "code",
   "execution_count": 11,
   "metadata": {},
   "outputs": [
    {
     "name": "stdout",
     "output_type": "stream",
     "text": [
      "WER: 5.83 %\n"
     ]
    }
   ],
   "source": [
    "\n",
    "\n",
    "wer = jiwer.wer(list(data[\"reference_clean\"]), list(data[\"hypothesis_clean\"]))\n",
    "\n",
    "print(f\"WER: {wer * 100:.2f} %\")\n",
    "\n"
   ]
  }
 ],
 "metadata": {
  "kernelspec": {
   "display_name": "base",
   "language": "python",
   "name": "python3"
  },
  "language_info": {
   "codemirror_mode": {
    "name": "ipython",
    "version": 3
   },
   "file_extension": ".py",
   "mimetype": "text/x-python",
   "name": "python",
   "nbconvert_exporter": "python",
   "pygments_lexer": "ipython3",
   "version": "3.10.12"
  }
 },
 "nbformat": 4,
 "nbformat_minor": 2
}
